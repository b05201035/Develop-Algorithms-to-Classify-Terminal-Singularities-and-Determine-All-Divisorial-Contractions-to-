{
 "cells": [
  {
   "cell_type": "code",
   "execution_count": 5,
   "metadata": {},
   "outputs": [],
   "source": [
    "from gurobipy import *\n",
    "import sympy as sp\n",
    "from sympy.abc import x, y, z, u\n",
    "import csv\n",
    "from tqdm import tqdm\n",
    "variables = [x, y, z, u]\n",
    "\n",
    "def compute_weight(f, weight):\n",
    "    f = sp.Poly(f, gens = variables)\n",
    "    return min([sum([weight[i]*degrees[i] for i in range(len(degrees))]) for degrees in f.monoms()])\n",
    "\n",
    "def find_wt(constraints, solution):\n",
    "    try:\n",
    "    # Create a new model\n",
    "        model = Model(\"mip1\")\n",
    "        \n",
    "        #search all solution\n",
    "        model.Params.PoolSearchMode = 2\n",
    "        model.Params.PoolSolutions = 10000\n",
    "        model.Params.LogToConsole = 0\n",
    "        \n",
    "        # Create variables\n",
    "        f = model.addVar(lb=1, ub=GRB.INFINITY, vtype=GRB.INTEGER, name=\"f\")\n",
    "        x = model.addVar(lb=1, ub=GRB.INFINITY, vtype=GRB.INTEGER, name=\"x\")\n",
    "        y = model.addVar(lb=1, ub=GRB.INFINITY, vtype=GRB.INTEGER, name=\"y\")\n",
    "        z = model.addVar(lb=1, ub=GRB.INFINITY, vtype=GRB.INTEGER, name=\"z\")\n",
    "        u = model.addVar(lb=1, ub=GRB.INFINITY, vtype=GRB.INTEGER, name=\"u\")\n",
    "            \n",
    "        # Set objective\n",
    "        model.setObjective(f , GRB.MAXIMIZE)\n",
    "\n",
    "        #discrepancy\n",
    "        alpha = 1\n",
    "        \n",
    "        \n",
    "        # equal constraint\n",
    "        model.addConstr(x + y + z + u - f - 1, GRB.EQUAL, alpha , \"c0\")\n",
    "        \n",
    "        a = [x, y, z, u]\n",
    "        # constraints\n",
    "        for degree in constraints:\n",
    "            degree = list(degree)\n",
    "            h = 0\n",
    "  \n",
    "            for i in range(len(degree)):\n",
    "                h+=a[i]*degree[i]\n",
    "\n",
    "            model.addConstr(h , GRB.GREATER_EQUAL, f,str(degree))\n",
    "\n",
    "        #RUN Algorithm\n",
    "        model.optimize()\n",
    "        \n",
    "        nSolutions = model . SolCount\n",
    "            \n",
    "        for e in range ( nSolutions ):\n",
    "            model . setParam (GRB. Param . SolutionNumber , e)\n",
    "            sol = tuple([int(round(x)) for x in model.Xn])\n",
    "            \n",
    "            if sol not in solution:\n",
    "                solution.append(sol)\n",
    "\n",
    "    except GurobiError:\n",
    "        print('Error reported')"
   ]
  },
  {
   "cell_type": "code",
   "execution_count": 6,
   "metadata": {},
   "outputs": [],
   "source": [
    "#define our first example\n",
    "f = 'x**2+y**3+z**4+z**2*u**2+u**8'\n",
    "\n",
    "#translate it into the polynomial in sympy\n",
    "f = sp.Poly(f)"
   ]
  },
  {
   "cell_type": "code",
   "execution_count": 7,
   "metadata": {},
   "outputs": [
    {
     "name": "stdout",
     "output_type": "stream",
     "text": [
      "Academic license - for non-commercial use only\n",
      "Changed value of parameter PoolSearchMode to 2\n",
      "   Prev: 0  Min: 0  Max: 2  Default: 0\n",
      "Changed value of parameter PoolSolutions to 10000\n",
      "   Prev: 10  Min: 1  Max: 2000000000  Default: 10\n"
     ]
    }
   ],
   "source": [
    "solution = []\n",
    "constraints = f.monoms()\n",
    "\n",
    "# find out all possible weights\n",
    "find_wt(constraints, solution)\n",
    "solution = list(set(solution))"
   ]
  },
  {
   "cell_type": "code",
   "execution_count": 8,
   "metadata": {},
   "outputs": [
    {
     "name": "stdout",
     "output_type": "stream",
     "text": [
      "the number of admissible weights is 4\n",
      "all possibilities are  [(6, 3, 2, 2, 1), (4, 2, 2, 1, 1), (3, 2, 1, 1, 1), (2, 1, 1, 1, 1)]\n",
      "all admissible weights are [[3, 2, 2, 1], [2, 2, 1, 1], [2, 1, 1, 1], [1, 1, 1, 1]]\n"
     ]
    }
   ],
   "source": [
    "solution = [weight for weight in solution if weight[0] == compute_weight(f, list(weight)[1:])]\n",
    "\n",
    "\n",
    "solution.sort(key = lambda s: s[0], reverse = True)\n",
    "print('the number of admissible weights is',len(solution))\n",
    "print('all possibilities are ',solution)\n",
    "\n",
    "admissible_weights = [list(weight)[1:] for weight in solution]\n",
    "print('all admissible weights are', admissible_weights)"
   ]
  },
  {
   "cell_type": "code",
   "execution_count": null,
   "metadata": {},
   "outputs": [],
   "source": []
  },
  {
   "cell_type": "code",
   "execution_count": null,
   "metadata": {},
   "outputs": [],
   "source": []
  }
 ],
 "metadata": {
  "kernelspec": {
   "display_name": "Python 3",
   "language": "python",
   "name": "python3"
  },
  "language_info": {
   "codemirror_mode": {
    "name": "ipython",
    "version": 3
   },
   "file_extension": ".py",
   "mimetype": "text/x-python",
   "name": "python",
   "nbconvert_exporter": "python",
   "pygments_lexer": "ipython3",
   "version": "3.6.5"
  }
 },
 "nbformat": 4,
 "nbformat_minor": 2
}
